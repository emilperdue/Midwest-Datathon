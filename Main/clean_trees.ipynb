{
 "cells": [
  {
   "cell_type": "code",
   "execution_count": 1,
   "metadata": {},
   "outputs": [
    {
     "name": "stderr",
     "output_type": "stream",
     "text": [
      "/var/folders/5t/fxl9hmt15b9gy4kpwg48tz2w0000gn/T/ipykernel_70962/3331623050.py:3: DtypeWarning: Columns (0,1,7,8,9,10,12,14,16,18,19,20,21,22,23,24,26) have mixed types. Specify dtype option on import or set low_memory=False.\n",
      "  trees_us = pd.read_csv(data_path + \"greenspace_data/5_million_trees_us_cities.csv\")\n"
     ]
    }
   ],
   "source": [
    "import pandas as pd\n",
    "data_path = \"../../data/\"\n",
    "trees_us = pd.read_csv(data_path + \"greenspace_data/5_million_trees_us_cities.csv\")\n",
    "city_info = pd.read_csv(data_path + \"census_code_mappers/us_cities_zips.csv\")"
   ]
  },
  {
   "cell_type": "code",
   "execution_count": 2,
   "metadata": {},
   "outputs": [
    {
     "name": "stdout",
     "output_type": "stream",
     "text": [
      "Index(['planted_date', 'common_name', 'scientific_name', 'city', 'state',\n",
      "       'longitude_coordinate', 'latitude_coordinate', 'location_type',\n",
      "       'zipcode', 'address', 'location_name', 'diameter_breast_height_CM',\n",
      "       'condition', 'native', 'diameter_breast_height_binned_CM',\n",
      "       'greater_metro', 'city_ID', 'tree_ID', 'most_recent_observation',\n",
      "       'retired_date', 'most_recent_observation_type', 'neighborhood', 'ward',\n",
      "       'district', 'overhead_utility', 'height_M', 'height_binned_M',\n",
      "       'percent_population'],\n",
      "      dtype='object') Index(['zip_code', 'latitude_centroid', 'longitude_centroid', 'city',\n",
      "       'state_abbr', 'state_name', 'zcta', 'parent_zcta', 'population',\n",
      "       'density', 'county_fips', 'county_name', 'timezone'],\n",
      "      dtype='object')\n"
     ]
    }
   ],
   "source": [
    "print(trees_us.columns, city_info.columns)"
   ]
  },
  {
   "cell_type": "code",
   "execution_count": 3,
   "metadata": {},
   "outputs": [
    {
     "name": "stdout",
     "output_type": "stream",
     "text": [
      "5660237 33788\n"
     ]
    }
   ],
   "source": [
    "print(len(trees_us), len(city_info))"
   ]
  },
  {
   "cell_type": "code",
   "execution_count": 4,
   "metadata": {},
   "outputs": [
    {
     "data": {
      "text/plain": [
       "planted_date                        5213598\n",
       "common_name                          892476\n",
       "scientific_name                      529297\n",
       "city                                    505\n",
       "state                                    31\n",
       "longitude_coordinate                 751709\n",
       "latitude_coordinate                  751578\n",
       "location_type                       3469760\n",
       "zipcode                             4768676\n",
       "address                             1254389\n",
       "location_name                       5310350\n",
       "diameter_breast_height_CM           2785979\n",
       "condition                           3038500\n",
       "native                                    0\n",
       "diameter_breast_height_binned_CM    1574755\n",
       "greater_metro                             0\n",
       "city_ID                             2017770\n",
       "tree_ID                             5660237\n",
       "most_recent_observation             2127842\n",
       "retired_date                        5658047\n",
       "most_recent_observation_type        3198777\n",
       "neighborhood                        5132935\n",
       "ward                                5384826\n",
       "district                            5509706\n",
       "overhead_utility                    5017235\n",
       "height_M                            4951094\n",
       "height_binned_M                     4996887\n",
       "percent_population                  5660237\n",
       "dtype: int64"
      ]
     },
     "execution_count": 4,
     "metadata": {},
     "output_type": "execute_result"
    }
   ],
   "source": [
    "#count number of nan values in each column\n",
    "trees_us.isnull().sum()"
   ]
  },
  {
   "cell_type": "code",
   "execution_count": 5,
   "metadata": {},
   "outputs": [],
   "source": [
    "del trees_us[\"tree_ID\"] # all nan\n",
    "del trees_us[\"percent_population\"] # all nan\n",
    "del trees_us[\"ward\"] # seems useless, too many nans\n",
    "del trees_us[\"district\"] # seems useless, too many nans\n",
    "del trees_us[\"city_ID\"] # seems useless\n",
    "del trees_us['address'] # seems useless\n",
    "del trees_us['location_name'] # seems useless\n",
    "del trees_us['neighborhood'] # seems useless\n",
    "del trees_us['overhead_utility'] # seems useless\n",
    "del trees_us['retired_date'] # too few values\n",
    "del trees_us['most_recent_observation'] # seems useless\n",
    "del trees_us['most_recent_observation_type'] # seems useless"
   ]
  },
  {
   "cell_type": "code",
   "execution_count": 6,
   "metadata": {},
   "outputs": [],
   "source": [
    "#capture year from planted_date\n",
    "pattern = r'(\\d{4})'\n",
    "trees_us['planted_year'] = trees_us['planted_date'].str.extract(pattern, expand=True)\n",
    "\n",
    "#capture month from planted_date\n",
    "pattern = r'(^\\d{2}/)'\n",
    "trees_us['planted_month'] = trees_us['planted_date'].str.extract(pattern, expand=True).replace(to_replace = r'/', value = '', regex = True)\n",
    "\n",
    "#capture day from planted_date\n",
    "pattern = r'(/\\d{2}/)'\n",
    "trees_us['planted_day'] = trees_us['planted_date'].str.extract(pattern, expand=True).replace(to_replace = r'/', value = '', regex = True)\n",
    "\n",
    "del trees_us['planted_date']"
   ]
  },
  {
   "cell_type": "code",
   "execution_count": 7,
   "metadata": {},
   "outputs": [],
   "source": [
    "# remove rows with nan values for city and state, too few, around 500\n",
    "trees_us = trees_us.dropna(subset=['city', 'state'])"
   ]
  },
  {
   "cell_type": "code",
   "execution_count": 8,
   "metadata": {},
   "outputs": [],
   "source": [
    "trees_us.longitude_coordinate = trees_us.longitude_coordinate.astype(float)\n",
    "trees_us.latitude_coordinate = trees_us.latitude_coordinate.astype(float)\n",
    "\n",
    "# fill mean values for longitude and latitude by city and state\n",
    "trees_us.longitude_coordinate = trees_us.groupby(['city', 'state'])['longitude_coordinate'].transform(lambda x: x.fillna(x.mean()))\n",
    "trees_us.latitude_coordinate = trees_us.groupby(['city', 'state'])['latitude_coordinate'].transform(lambda x: x.fillna(x.mean()))\n",
    "\n",
    "\n",
    "city_crd = city_info[['city', 'latitude_centroid', 'longitude_centroid']]\n",
    "\n",
    "# make dictionary of city and state to latitude and longitude\n",
    "city_longitude = dict(zip(city_crd.city, city_crd.longitude_centroid))\n",
    "city_latitude = dict(zip(city_crd.city, city_crd.latitude_centroid))\n",
    "\n",
    "trees_us.fillna(value={'longitude_coordinate': trees_us.city.map(city_longitude), 'latitude_coordinate': trees_us.city.map(city_latitude)}, inplace=True)"
   ]
  },
  {
   "cell_type": "code",
   "execution_count": 9,
   "metadata": {},
   "outputs": [
    {
     "data": {
      "text/plain": [
       "array(['green_space', 'no_info', 'built_environment'], dtype=object)"
      ]
     },
     "execution_count": 9,
     "metadata": {},
     "output_type": "execute_result"
    }
   ],
   "source": [
    "trees_us.location_type.unique()\n",
    "trees_us.location_type.fillna(value='no_info', inplace=True)\n",
    "trees_us.location_type.replace(to_replace='nan', value='no_info', inplace=True)\n",
    "trees_us.location_type.replace(to_replace='<null>', value='no_info', inplace=True)\n",
    "trees_us.location_type = trees_us.location_type.astype(str)\n",
    "trees_us.location_type.unique()"
   ]
  },
  {
   "cell_type": "code",
   "execution_count": 10,
   "metadata": {},
   "outputs": [
    {
     "name": "stdout",
     "output_type": "stream",
     "text": [
      "7416\n"
     ]
    }
   ],
   "source": [
    "city_zip = city_info[['city', 'zip_code']]\n",
    "city_zip = dict(zip(city_zip.city, city_zip.zip_code))\n",
    "\n",
    "trees_us.zipcode.fillna(value=trees_us.city.map(city_zip), inplace=True)\n",
    "\n",
    "# fill mode by city and state\n",
    "trees_us.zipcode = trees_us.groupby(['city'])['zipcode'].transform(lambda x: x.fillna(x.mode()))\n",
    "\n",
    "mask1 = trees_us.city == 'Washington DC'\n",
    "mask2 = trees_us.city == 'St. Louis'\n",
    "trees_us.loc[mask1, 'zipcode'] = 20001\n",
    "trees_us.loc[mask2, 'zipcode'] = 63101\n",
    "\n",
    "print(trees_us.zipcode.isnull().sum())\n",
    "trees_us.dropna(subset=['zipcode'], inplace=True)\n",
    "mask3 = trees_us.zipcode == 'None'\n",
    "trees_us.drop(trees_us[mask3].index, inplace=True)\n",
    "trees_us.zipcode = trees_us.zipcode.astype(int)"
   ]
  },
  {
   "cell_type": "code",
   "execution_count": 15,
   "metadata": {},
   "outputs": [
    {
     "name": "stdout",
     "output_type": "stream",
     "text": [
      "4452 1957\n"
     ]
    }
   ],
   "source": [
    "print(len(trees_us['common_name'].unique()), len(trees_us['scientific_name'].unique()))\n",
    "\n",
    "names_1 = trees_us[['common_name', 'scientific_name']].drop_duplicates()\n",
    "names_2 = trees_us[['scientific_name', 'common_name']].drop_duplicates()\n",
    "#convert to dictionary\n",
    "common_scientific = names_1.set_index('common_name').to_dict()['scientific_name']\n",
    "scientific_common = names_2.set_index('scientific_name').to_dict()['common_name']\n",
    "\n",
    "#fill na values\n",
    "# trees_us.scientific_name.fillna(trees_us.common_name.map(common_scientific), inplace=True)\n",
    "trees_us.common_name.fillna(trees_us.scientific_name.map(scientific_common), inplace=True)\n",
    "\n",
    "trees_us.common_name = trees_us.common_name.str.lower().astype(str)\n",
    "# trees_us.common_name.fillna(\"UNK\", inplace=True)\n",
    "\n",
    "trees_us.scientific_name = trees_us.scientific_name.str.lower().astype(str)\n",
    "# trees_us.scientific_name.fillna(\"UNK\", inplace=True)"
   ]
  },
  {
   "cell_type": "code",
   "execution_count": 11,
   "metadata": {},
   "outputs": [
    {
     "name": "stdout",
     "output_type": "stream",
     "text": [
      "1571519\n",
      "962326\n",
      "0\n"
     ]
    }
   ],
   "source": [
    "# fill by binned mean\n",
    "trees_us.diameter_breast_height_CM = trees_us.groupby(['diameter_breast_height_binned_CM'])['diameter_breast_height_CM'].transform(lambda x: x.fillna(x.mean()))\n",
    "\n",
    "print(trees_us.diameter_breast_height_CM.isnull().sum())\n",
    "\n",
    "# fill by common_name mean\n",
    "trees_us.diameter_breast_height_CM = trees_us.groupby(['common_name'])['diameter_breast_height_CM'].transform(lambda x: x.fillna(x.mean()))\n",
    "\n",
    "print(trees_us.diameter_breast_height_CM.isnull().sum())\n",
    "\n",
    "# fill by overall mean\n",
    "trees_us.diameter_breast_height_CM.fillna(value=trees_us.diameter_breast_height_CM.mean(), inplace=True)\n",
    "\n",
    "print(trees_us.diameter_breast_height_CM.isnull().sum())"
   ]
  },
  {
   "cell_type": "code",
   "execution_count": 12,
   "metadata": {},
   "outputs": [
    {
     "name": "stdout",
     "output_type": "stream",
     "text": [
      "4989438\n",
      "1739083\n",
      "0\n"
     ]
    }
   ],
   "source": [
    "# do the same for height\n",
    "trees_us.height_M = trees_us.groupby(['height_binned_M'])['height_M'].transform(lambda x: x.fillna(x.mean()))\n",
    "\n",
    "print(trees_us.height_M.isnull().sum())\n",
    "\n",
    "# fill by common_name mean\n",
    "trees_us.height_M = trees_us.groupby(['common_name'])['height_M'].transform(lambda x: x.fillna(x.mean()))\n",
    "\n",
    "print(trees_us.height_M.isnull().sum())\n",
    "\n",
    "# fill by overall mean\n",
    "trees_us.height_M.fillna(value=trees_us.height_M.mean(), inplace=True)\n",
    "\n",
    "print(trees_us.height_M.isnull().sum())"
   ]
  },
  {
   "cell_type": "code",
   "execution_count": 13,
   "metadata": {},
   "outputs": [],
   "source": [
    "del trees_us['diameter_breast_height_binned_CM'] # delete the binned columns\n",
    "del trees_us['height_binned_M'] # delete the binned columns"
   ]
  },
  {
   "cell_type": "code",
   "execution_count": 14,
   "metadata": {},
   "outputs": [],
   "source": [
    "trees_us.condition.fillna(value='unknown', inplace=True)"
   ]
  },
  {
   "cell_type": "code",
   "execution_count": 16,
   "metadata": {},
   "outputs": [
    {
     "name": "stdout",
     "output_type": "stream",
     "text": [
      "<class 'pandas.core.frame.DataFrame'>\n",
      "Int64Index: 5650836 entries, 0 to 5660234\n",
      "Data columns (total 16 columns):\n",
      " #   Column                     Dtype  \n",
      "---  ------                     -----  \n",
      " 0   common_name                object \n",
      " 1   scientific_name            object \n",
      " 2   city                       object \n",
      " 3   state                      object \n",
      " 4   longitude_coordinate       float64\n",
      " 5   latitude_coordinate        float64\n",
      " 6   location_type              object \n",
      " 7   zipcode                    int64  \n",
      " 8   diameter_breast_height_CM  float64\n",
      " 9   condition                  object \n",
      " 10  native                     object \n",
      " 11  greater_metro              object \n",
      " 12  height_M                   float64\n",
      " 13  planted_year               object \n",
      " 14  planted_month              object \n",
      " 15  planted_day                object \n",
      "dtypes: float64(4), int64(1), object(11)\n",
      "memory usage: 732.9+ MB\n"
     ]
    }
   ],
   "source": [
    "trees_us.info()"
   ]
  },
  {
   "cell_type": "code",
   "execution_count": 17,
   "metadata": {},
   "outputs": [
    {
     "data": {
      "text/plain": [
       "common_name                        0\n",
       "scientific_name                    0\n",
       "city                               0\n",
       "state                              0\n",
       "longitude_coordinate               0\n",
       "latitude_coordinate                0\n",
       "location_type                      0\n",
       "zipcode                            0\n",
       "diameter_breast_height_CM          0\n",
       "condition                          0\n",
       "native                             0\n",
       "greater_metro                      0\n",
       "height_M                           0\n",
       "planted_year                 5215443\n",
       "planted_month                5238997\n",
       "planted_day                  5239431\n",
       "dtype: int64"
      ]
     },
     "execution_count": 17,
     "metadata": {},
     "output_type": "execute_result"
    }
   ],
   "source": [
    "trees_us.isnull().sum()"
   ]
  },
  {
   "cell_type": "code",
   "execution_count": 21,
   "metadata": {},
   "outputs": [
    {
     "name": "stdout",
     "output_type": "stream",
     "text": [
      "['common_name', 'scientific_name', 'city', 'state', 'location_type', 'condition', 'native', 'greater_metro']\n"
     ]
    }
   ],
   "source": [
    "df = trees_us.isnull().sum()\n",
    "stringcols = [col for col in trees_us.columns if trees_us[col].dtype == 'object' and df[col] == 0]\n",
    "print(stringcols)\n",
    "# convert to string\n",
    "trees_us[stringcols] = trees_us[stringcols].astype(str)"
   ]
  },
  {
   "cell_type": "code",
   "execution_count": 23,
   "metadata": {},
   "outputs": [],
   "source": [
    "trees_us.to_csv(data_path + \"greenspace_data/5_million_trees_us_cities_cleaned.csv\", index=False)"
   ]
  },
  {
   "cell_type": "code",
   "execution_count": null,
   "metadata": {},
   "outputs": [],
   "source": []
  }
 ],
 "metadata": {
  "kernelspec": {
   "display_name": "py310",
   "language": "python",
   "name": "python3"
  },
  "language_info": {
   "codemirror_mode": {
    "name": "ipython",
    "version": 3
   },
   "file_extension": ".py",
   "mimetype": "text/x-python",
   "name": "python",
   "nbconvert_exporter": "python",
   "pygments_lexer": "ipython3",
   "version": "3.10.6"
  },
  "orig_nbformat": 4,
  "vscode": {
   "interpreter": {
    "hash": "363ecb84e3e8af5130165f16916a6cd46f46bf2cc1422b7255608895f6e736ee"
   }
  }
 },
 "nbformat": 4,
 "nbformat_minor": 2
}
