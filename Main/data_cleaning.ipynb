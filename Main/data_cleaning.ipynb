{
 "cells": [
  {
   "cell_type": "markdown",
   "metadata": {},
   "source": [
    "---"
   ]
  },
  {
   "cell_type": "markdown",
   "metadata": {},
   "source": [
    "# Setting up some things"
   ]
  },
  {
   "cell_type": "code",
   "execution_count": 1,
   "metadata": {},
   "outputs": [],
   "source": [
    "import matplotlib.pyplot as plt\n",
    "import geopandas\n",
    "import pandas as pd\n",
    "import locale\n",
    "import os\n",
    "import os.path as osp\n",
    "from typing import List, Dict, Set, Callable\n",
    "import missingno as msno\n",
    "\n",
    "HOME = \"../../\"\n",
    "\n",
    "# the input directories\n",
    "DATA = osp.join(HOME, \"data\")\n",
    "CODE = osp.join(HOME, \"code\")\n",
    "GREENSPACE_DATA = osp.join(DATA, \"greenspace_data\")\n",
    "CENSUS_DATA = osp.join(DATA, \"census_code_mappers\")\n",
    "STATES = geopandas.read_file('./state_shape_data/usa-states-census-2014.shp')\n",
    "STATES.crs\n",
    "STATES = STATES.to_crs(\"EPSG:3395\")\n",
    "\n",
    "# the output directories\n",
    "def safe_mkdir(folder):\n",
    "    if(not osp.exists(folder)):\n",
    "        os.mkdir(folder)\n",
    "\n",
    "CLEAN_DATA = osp.join(HOME, \"clean_data\")\n",
    "CLEAN_GREENSPACE_DATA = osp.join(CLEAN_DATA, \"greenspace_data\")\n",
    "safe_mkdir(CLEAN_DATA)\n",
    "safe_mkdir(CLEAN_GREENSPACE_DATA)"
   ]
  },
  {
   "cell_type": "code",
   "execution_count": 2,
   "metadata": {},
   "outputs": [],
   "source": [
    "def plot_on_US_map(fnc: Callable[[pd.Series], int], col_name: str):\n",
    "    STATES[col_name] = STATES.apply(fnc, axis = 1)\n",
    "    STATES.plot(column = col_name, legend = True)\n",
    "    plt.title(\"How \"+str(col_name)+\" varies by state\")\n",
    "    plt.show()"
   ]
  },
  {
   "cell_type": "markdown",
   "metadata": {},
   "source": [
    "Getting all the locational dataframes"
   ]
  },
  {
   "cell_type": "code",
   "execution_count": 3,
   "metadata": {},
   "outputs": [],
   "source": [
    "blocks_df = pd.read_csv(osp.join(CENSUS_DATA, \"us_blocks.csv\"))\n",
    "fips_df = pd.read_csv(osp.join(CENSUS_DATA, \"fips_codes.csv\"))\n",
    "fips_df['geoid'] = fips_df.apply(lambda row: int(row.state_code+row.county_code), axis=1)\n",
    "city_df = pd.read_csv(osp.join(CENSUS_DATA, \"us_city_info.csv\"))\n",
    "zip_df = pd.read_csv(osp.join(CENSUS_DATA, \"zcta_census_tract.csv\"))\n",
    "\n",
    "# Getting some dictionaries from the blocks_df\n",
    "dc_block_geo_id_state_fip = dict(zip(blocks_df.block_geoid, blocks_df.state_fip))\n",
    "dc_block_geo_id_county_fip = dict(zip(blocks_df.block_geoid, blocks_df.county_fip))\n",
    "dc_block_geo_id_county_name = dict(zip(blocks_df.block_geoid, blocks_df.county_name))\n",
    "\n",
    "# Getting dictionaries from the fips_df\n",
    "dc_state_fip_to_state_abb = dict(zip(fips_df.state_code, fips_df.state))\n",
    "dc_state_fip_to_state_name = dict(zip(fips_df.state_code, fips_df.state_name))\n",
    "dc_county_fip_to_county_name = dict(zip(fips_df.county_code, fips_df.county))\n",
    "dc_geoid_to_county_name = dict(zip(fips_df.geoid, fips_df.county))\n",
    "dc_geoid_to_state_name = dict(zip(fips_df.geoid, fips_df.state_name))\n",
    "dc_geoid_to_state_abb = dict(zip(fips_df.geoid, fips_df.state))\n",
    "\n",
    "# Getting dictionaries from the city_df\n",
    "dc_county_fips_to_state_abb =  dict(zip(city_df.county_fips, city_df.state_abbr))\n",
    "dc_county_fips_to_state_name =  dict(zip(city_df.county_fips, city_df.state_name))\n",
    "dc_county_fips_to_county_name =  dict(zip(city_df.county_fips, city_df.county_name))\n",
    "dc_city_name_to_state_name =  dict(zip(city_df.city, city_df.state_name))\n",
    "\n",
    "# Getting dictionaries from zip_df\n",
    "dc_zcta10_to_state_fip =  dict(zip(zip_df.ZCTA10, zip_df.state_fip))\n",
    "dc_zcta10_to_county_fip =  dict(zip(zip_df.ZCTA10, zip_df.county_fip))"
   ]
  },
  {
   "cell_type": "markdown",
   "metadata": {},
   "source": [
    "---"
   ]
  },
  {
   "cell_type": "markdown",
   "metadata": {},
   "source": [
    "# Cleaning the Percent Cover Data\n",
    "\n",
    "There are 4 percent cover datasets to consider. We load them all."
   ]
  },
  {
   "cell_type": "code",
   "execution_count": 4,
   "metadata": {},
   "outputs": [],
   "source": [
    "pcc = pd.read_csv(osp.join(GREENSPACE_DATA, \"percent_cover_county.txt\"))\n",
    "pctnb = pd.read_csv(osp.join(GREENSPACE_DATA, \"percent_cover_tracts_no_buffer.txt\"))\n",
    "pctwb = pd.read_csv(osp.join(GREENSPACE_DATA, \"percent_cover_tracts_with_buffer.txt\"))\n",
    "pczta = pd.read_csv(osp.join(GREENSPACE_DATA, \"percent_cover_zipcode_tabulated_areas.txt\"))\n",
    "apc = [pcc, pctnb, pctwb, pczta]\n",
    "apc_names = [\"percent_cover_county\", \"percent_cover_tracts_no_buffer\", \"percent_cover_tracts_with_buffer\", \"percent_cover_zipcode_tabulated_areas\"]"
   ]
  },
  {
   "cell_type": "markdown",
   "metadata": {},
   "source": [
    "### Counting Nan Values\n",
    "\n",
    "Turns out to have no NAN values initially"
   ]
  },
  {
   "cell_type": "code",
   "execution_count": 5,
   "metadata": {},
   "outputs": [
    {
     "name": "stdout",
     "output_type": "stream",
     "text": [
      "GEOID      0.0\n",
      "NAME       0.0\n",
      "pc_park    0.0\n",
      "dtype: float64\n",
      "GEOID       0.0\n",
      "STATEFP     0.0\n",
      "COUNTYFP    0.0\n",
      "pc_park     0.0\n",
      "dtype: float64\n",
      "GEOID       0.0\n",
      "STATEFP     0.0\n",
      "COUNTYFP    0.0\n",
      "pc_park     0.0\n",
      "dtype: float64\n",
      "ZCTA5CE10    0.0\n",
      "pc_park      0.0\n",
      "dtype: float64\n"
     ]
    }
   ],
   "source": [
    "for pc in apc:\n",
    "    print(pc.isnull().sum(axis = 0) / len(pc))"
   ]
  },
  {
   "cell_type": "markdown",
   "metadata": {},
   "source": [
    "## Counting Zero Values\n",
    "\n",
    "Debatable if they need to be removed. Ask Yash once before going ahead."
   ]
  },
  {
   "cell_type": "code",
   "execution_count": 6,
   "metadata": {},
   "outputs": [
    {
     "name": "stdout",
     "output_type": "stream",
     "text": [
      "percent_cover_county 0.01705276705276705\n",
      "percent_cover_tracts_no_buffer 0.1731092668670214\n",
      "percent_cover_tracts_with_buffer 0.03163858942898894\n",
      "percent_cover_zipcode_tabulated_areas 0.18957650733380285\n"
     ]
    }
   ],
   "source": [
    "for pc, pc_name in zip(apc, apc_names):\n",
    "    print(pc_name + \" \" + str(len(pc[pc['pc_park'] == 0]) /(len(pc))))"
   ]
  },
  {
   "cell_type": "markdown",
   "metadata": {},
   "source": [
    "## Adding Other Columns\n",
    "So that these dataframes are easily accessible"
   ]
  },
  {
   "cell_type": "code",
   "execution_count": 7,
   "metadata": {},
   "outputs": [],
   "source": [
    "for pc in [pctnb, pctwb]:\n",
    "    pc['state'] = pc['STATEFP'].map(dc_state_fip_to_state_abb)\n",
    "    pc['state_name'] = pc['STATEFP'].map(dc_state_fip_to_state_name)    \n",
    "    pc['county_name'] = pc['COUNTYFP'].map(dc_county_fip_to_county_name)"
   ]
  },
  {
   "cell_type": "code",
   "execution_count": 8,
   "metadata": {},
   "outputs": [],
   "source": [
    "pcc['state'] = pcc['GEOID'].map(dc_county_fips_to_state_abb)\n",
    "pcc['state_name'] = pcc['GEOID'].map(dc_county_fips_to_state_name)\n",
    "pcc['county_name'] = pcc['GEOID'].map(dc_county_fips_to_county_name)"
   ]
  },
  {
   "cell_type": "code",
   "execution_count": 9,
   "metadata": {},
   "outputs": [],
   "source": [
    "pczta['state_fip'] = pczta['ZCTA5CE10'].map(dc_zcta10_to_state_fip)\n",
    "pczta['state_abb'] = pczta['state_fip'].map(dc_state_fip_to_state_abb)\n",
    "pczta['state_name'] = pczta['state_fip'].map(dc_state_fip_to_state_name)\n",
    "pczta['county_fip'] = pczta['ZCTA5CE10'].map(dc_zcta10_to_county_fip)\n",
    "pczta['county_name'] = pczta['county_fip'].map(dc_county_fip_to_county_name)"
   ]
  },
  {
   "cell_type": "code",
   "execution_count": 10,
   "metadata": {},
   "outputs": [],
   "source": [
    "for pc, nm in zip(apc, apc_names):\n",
    "    tpc = pc.dropna()\n",
    "    tpc.to_csv(osp.join(CLEAN_GREENSPACE_DATA, nm+str(\".txt\")), index=False)"
   ]
  },
  {
   "cell_type": "markdown",
   "metadata": {},
   "source": [
    "---"
   ]
  },
  {
   "cell_type": "markdown",
   "metadata": {},
   "source": [
    "# Cleaning the Urban Tree Canopy Dataframe\n",
    "\n",
    "Just the one dataframe this time, however it is significantly more complicated than the percent cover datasets. Starting off by loading the dataset and plotting a heatmap"
   ]
  },
  {
   "cell_type": "code",
   "execution_count": 11,
   "metadata": {},
   "outputs": [],
   "source": [
    "utcdf = pd.read_csv(osp.join(GREENSPACE_DATA, \"urban_tree_canopy.csv\"))"
   ]
  },
  {
   "cell_type": "markdown",
   "metadata": {},
   "source": [
    "### Adding some columns\n",
    "\n",
    "This dataset has the city name in a different format. Furthermore it does not have state or county so I am adding the same to the dataframe using the census block column. Furthermore I am taking rounding down the census block column as it should always be an int"
   ]
  },
  {
   "cell_type": "code",
   "execution_count": 12,
   "metadata": {},
   "outputs": [],
   "source": [
    "utcdf = utcdf.astype({'census_block':'int'})\n",
    "utcdf['state_fip'] = utcdf['census_block'].map(dc_block_geo_id_state_fip)\n",
    "utcdf['state'] = utcdf['state_fip'].map(dc_state_fip_to_state_abb)\n",
    "utcdf['state_name'] = utcdf['state_fip'].map(dc_state_fip_to_state_name)\n",
    "utcdf['county_fip'] = utcdf['census_block'].map(dc_block_geo_id_county_fip)\n",
    "utcdf['county_name'] = utcdf['census_block'].map(dc_block_geo_id_county_name)"
   ]
  },
  {
   "cell_type": "code",
   "execution_count": 14,
   "metadata": {},
   "outputs": [
    {
     "data": {
      "text/html": [
       "<div>\n",
       "<style scoped>\n",
       "    .dataframe tbody tr th:only-of-type {\n",
       "        vertical-align: middle;\n",
       "    }\n",
       "\n",
       "    .dataframe tbody tr th {\n",
       "        vertical-align: top;\n",
       "    }\n",
       "\n",
       "    .dataframe thead th {\n",
       "        text-align: right;\n",
       "    }\n",
       "</style>\n",
       "<table border=\"1\" class=\"dataframe\">\n",
       "  <thead>\n",
       "    <tr style=\"text-align: right;\">\n",
       "      <th></th>\n",
       "      <th>state_fip</th>\n",
       "      <th>county_fip</th>\n",
       "      <th>county_name</th>\n",
       "      <th>tract_fip</th>\n",
       "      <th>block</th>\n",
       "      <th>tract_geoid</th>\n",
       "      <th>block_geoid</th>\n",
       "    </tr>\n",
       "  </thead>\n",
       "  <tbody>\n",
       "    <tr>\n",
       "      <th>0</th>\n",
       "      <td>4</td>\n",
       "      <td>1</td>\n",
       "      <td>Apache County</td>\n",
       "      <td>942600</td>\n",
       "      <td>1000</td>\n",
       "      <td>4001942600</td>\n",
       "      <td>40019426001000</td>\n",
       "    </tr>\n",
       "    <tr>\n",
       "      <th>1</th>\n",
       "      <td>4</td>\n",
       "      <td>1</td>\n",
       "      <td>Apache County</td>\n",
       "      <td>942600</td>\n",
       "      <td>1001</td>\n",
       "      <td>4001942600</td>\n",
       "      <td>40019426001001</td>\n",
       "    </tr>\n",
       "    <tr>\n",
       "      <th>2</th>\n",
       "      <td>4</td>\n",
       "      <td>1</td>\n",
       "      <td>Apache County</td>\n",
       "      <td>942600</td>\n",
       "      <td>1002</td>\n",
       "      <td>4001942600</td>\n",
       "      <td>40019426001002</td>\n",
       "    </tr>\n",
       "    <tr>\n",
       "      <th>3</th>\n",
       "      <td>4</td>\n",
       "      <td>1</td>\n",
       "      <td>Apache County</td>\n",
       "      <td>942600</td>\n",
       "      <td>1003</td>\n",
       "      <td>4001942600</td>\n",
       "      <td>40019426001003</td>\n",
       "    </tr>\n",
       "    <tr>\n",
       "      <th>4</th>\n",
       "      <td>4</td>\n",
       "      <td>1</td>\n",
       "      <td>Apache County</td>\n",
       "      <td>942600</td>\n",
       "      <td>1004</td>\n",
       "      <td>4001942600</td>\n",
       "      <td>40019426001004</td>\n",
       "    </tr>\n",
       "    <tr>\n",
       "      <th>...</th>\n",
       "      <td>...</td>\n",
       "      <td>...</td>\n",
       "      <td>...</td>\n",
       "      <td>...</td>\n",
       "      <td>...</td>\n",
       "      <td>...</td>\n",
       "      <td>...</td>\n",
       "    </tr>\n",
       "    <tr>\n",
       "      <th>11158380</th>\n",
       "      <td>41</td>\n",
       "      <td>71</td>\n",
       "      <td>Yamhill County</td>\n",
       "      <td>31000</td>\n",
       "      <td>2138</td>\n",
       "      <td>41071031000</td>\n",
       "      <td>410710310002138</td>\n",
       "    </tr>\n",
       "    <tr>\n",
       "      <th>11158381</th>\n",
       "      <td>41</td>\n",
       "      <td>71</td>\n",
       "      <td>Yamhill County</td>\n",
       "      <td>31000</td>\n",
       "      <td>2139</td>\n",
       "      <td>41071031000</td>\n",
       "      <td>410710310002139</td>\n",
       "    </tr>\n",
       "    <tr>\n",
       "      <th>11158382</th>\n",
       "      <td>41</td>\n",
       "      <td>71</td>\n",
       "      <td>Yamhill County</td>\n",
       "      <td>31000</td>\n",
       "      <td>2140</td>\n",
       "      <td>41071031000</td>\n",
       "      <td>410710310002140</td>\n",
       "    </tr>\n",
       "    <tr>\n",
       "      <th>11158383</th>\n",
       "      <td>41</td>\n",
       "      <td>71</td>\n",
       "      <td>Yamhill County</td>\n",
       "      <td>31000</td>\n",
       "      <td>2141</td>\n",
       "      <td>41071031000</td>\n",
       "      <td>410710310002141</td>\n",
       "    </tr>\n",
       "    <tr>\n",
       "      <th>11158384</th>\n",
       "      <td>41</td>\n",
       "      <td>71</td>\n",
       "      <td>Yamhill County</td>\n",
       "      <td>31000</td>\n",
       "      <td>2142</td>\n",
       "      <td>41071031000</td>\n",
       "      <td>410710310002142</td>\n",
       "    </tr>\n",
       "  </tbody>\n",
       "</table>\n",
       "<p>11158385 rows × 7 columns</p>\n",
       "</div>"
      ],
      "text/plain": [
       "          state_fip  county_fip     county_name  tract_fip  block  \\\n",
       "0                 4           1   Apache County     942600   1000   \n",
       "1                 4           1   Apache County     942600   1001   \n",
       "2                 4           1   Apache County     942600   1002   \n",
       "3                 4           1   Apache County     942600   1003   \n",
       "4                 4           1   Apache County     942600   1004   \n",
       "...             ...         ...             ...        ...    ...   \n",
       "11158380         41          71  Yamhill County      31000   2138   \n",
       "11158381         41          71  Yamhill County      31000   2139   \n",
       "11158382         41          71  Yamhill County      31000   2140   \n",
       "11158383         41          71  Yamhill County      31000   2141   \n",
       "11158384         41          71  Yamhill County      31000   2142   \n",
       "\n",
       "          tract_geoid      block_geoid  \n",
       "0          4001942600   40019426001000  \n",
       "1          4001942600   40019426001001  \n",
       "2          4001942600   40019426001002  \n",
       "3          4001942600   40019426001003  \n",
       "4          4001942600   40019426001004  \n",
       "...               ...              ...  \n",
       "11158380  41071031000  410710310002138  \n",
       "11158381  41071031000  410710310002139  \n",
       "11158382  41071031000  410710310002140  \n",
       "11158383  41071031000  410710310002141  \n",
       "11158384  41071031000  410710310002142  \n",
       "\n",
       "[11158385 rows x 7 columns]"
      ]
     },
     "execution_count": 14,
     "metadata": {},
     "output_type": "execute_result"
    }
   ],
   "source": [
    "blocks_df"
   ]
  },
  {
   "cell_type": "markdown",
   "metadata": {},
   "source": [
    "### Counting Nan Values\n",
    "\n",
    "After adding the state and county columns. 99.77% of the data is present"
   ]
  },
  {
   "cell_type": "code",
   "execution_count": 13,
   "metadata": {
    "scrolled": true
   },
   "outputs": [
    {
     "name": "stdout",
     "output_type": "stream",
     "text": [
      "city_name                  1.000000\n",
      "census_block               1.000000\n",
      "mean_percent_tree_cover    1.000000\n",
      "tree_gap                   1.000000\n",
      "surface_temp               1.000000\n",
      "income_percent             1.000000\n",
      "income_group               1.000000\n",
      "pop_dens_group             1.000000\n",
      "state_fip                  0.997709\n",
      "state                      0.997709\n",
      "state_name                 0.997709\n",
      "county_fip                 0.997709\n",
      "county_name                0.997709\n",
      "dtype: float64\n"
     ]
    }
   ],
   "source": [
    "print(1- (utcdf.isnull().sum(axis = 0) / len(utcdf)))"
   ]
  },
  {
   "cell_type": "markdown",
   "metadata": {},
   "source": [
    "Washington DC seems to be missing from blocks_df. I think we can skip it is comparatively rare"
   ]
  },
  {
   "cell_type": "code",
   "execution_count": 15,
   "metadata": {},
   "outputs": [
    {
     "data": {
      "text/plain": [
       "array(['Washington, DC--VA--MD'], dtype=object)"
      ]
     },
     "execution_count": 15,
     "metadata": {},
     "output_type": "execute_result"
    }
   ],
   "source": [
    "utcdf[utcdf['state_fip'].isnull()]['city_name'].unique()"
   ]
  },
  {
   "cell_type": "code",
   "execution_count": 16,
   "metadata": {},
   "outputs": [],
   "source": [
    "tutcdf = utcdf.dropna()\n",
    "tutcdf.to_csv(osp.join(CLEAN_GREENSPACE_DATA, \"urban_tree_canopy.csv\"), index=False)"
   ]
  }
 ],
 "metadata": {
  "kernelspec": {
   "display_name": "Python 3 (ipykernel)",
   "language": "python",
   "name": "python3"
  },
  "language_info": {
   "codemirror_mode": {
    "name": "ipython",
    "version": 3
   },
   "file_extension": ".py",
   "mimetype": "text/x-python",
   "name": "python",
   "nbconvert_exporter": "python",
   "pygments_lexer": "ipython3",
   "version": "3.9.13"
  }
 },
 "nbformat": 4,
 "nbformat_minor": 4
}
